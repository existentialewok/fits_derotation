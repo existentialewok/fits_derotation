{
 "cells": [
  {
   "cell_type": "code",
   "execution_count": 1,
   "id": "a5310465-2e22-4862-99b9-ed055df16257",
   "metadata": {},
   "outputs": [
    {
     "name": "stdin",
     "output_type": "stream",
     "text": [
      "Enter directory: /home/eddiesawin/Pictures/Astronomy/30_july/wendelstein_2-b/aligned_3_c\n"
     ]
    }
   ],
   "source": [
    "##Simple FITS Derotation Program - Eddie Sawin\n",
    "\n",
    "from astropy.io import fits\n",
    "import os\n",
    "import shutil\n",
    "import numpy as np\n",
    "import matplotlib.pyplot as plt\n",
    "import scipy\n",
    "import scipy.ndimage\n",
    "#Imports necessary modules\n",
    "directory = input('Enter directory:')\n",
    "#Queries for image directory\n",
    "path = os.path.join(directory, 'derotated')\n",
    "os.mkdir(path)\n",
    "#Creates folder for derotated images"
   ]
  },
  {
   "cell_type": "code",
   "execution_count": 2,
   "id": "86525a1f-6d0a-44f3-a3d2-a4c987bf9cdc",
   "metadata": {},
   "outputs": [],
   "source": [
    "ext = ('.fits', '.fit')\n",
    "or_file = os.listdir(directory)[0]\n",
    "#Select initial image\n",
    "if or_file.endswith(ext):\n",
    "#Check file type\n",
    "    or_filepath = directory + '/' + or_file\n",
    "    or_fits = fits.open(or_filepath)\n",
    "    or_angle = or_fits[0].header['ROTATANG']\n",
    "#Determines angle of telescope rotator during first exposure from FITS Header\n",
    "for file in os.listdir(directory):\n",
    "#Iterates over files\n",
    "    if file.endswith(ext):\n",
    "    #Checks file type\n",
    "        c_fits = fits.open(directory + '/' + file)\n",
    "    #Opens FITS file\n",
    "        c_angle = c_fits[0].header['ROTATANG']\n",
    "    #Determines angle of rotator during exposure\n",
    "        angle_difference = c_angle - or_angle\n",
    "    #Calculates difference in rotator angle between current and initial exposure. \n",
    "        image_data = c_fits[0].data\n",
    "    #Extracts image data from file\n",
    "        temp_header = c_fits[0].header\n",
    "    #Extracts header data from file\n",
    "        rotated_data = scipy.ndimage.rotate(image_data, -(angle_difference), axes=(1, 0), reshape=False, output=None, order=3, mode='constant', cval=0.0, prefilter=True)\n",
    "    #Using SciPy, rotates image \n",
    "        hdu = fits.PrimaryHDU(rotated_data, temp_header)\n",
    "        hdul = fits.HDUList([hdu])\n",
    "        hdul.writeto(directory + '/derotated/derotated_' + file)\n",
    "    #Creates new file in derotated folder"
   ]
  },
  {
   "cell_type": "code",
   "execution_count": null,
   "id": "96ca31d4-fa61-49dd-a763-c1b8d5b5e2f5",
   "metadata": {},
   "outputs": [],
   "source": []
  }
 ],
 "metadata": {
  "kernelspec": {
   "display_name": "Python 3 (ipykernel)",
   "language": "python",
   "name": "python3"
  },
  "language_info": {
   "codemirror_mode": {
    "name": "ipython",
    "version": 3
   },
   "file_extension": ".py",
   "mimetype": "text/x-python",
   "name": "python",
   "nbconvert_exporter": "python",
   "pygments_lexer": "ipython3",
   "version": "3.10.4"
  }
 },
 "nbformat": 4,
 "nbformat_minor": 5
}
