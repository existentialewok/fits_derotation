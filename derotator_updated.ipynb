{
 "cells": [
  {
   "cell_type": "code",
   "execution_count": 1,
   "id": "a5310465-2e22-4862-99b9-ed055df16257",
   "metadata": {},
   "outputs": [
    {
     "name": "stdin",
     "output_type": "stream",
     "text": [
      "Enter directory: /home/eddiesawin/Downloads/r_calibrated\n"
     ]
    }
   ],
   "source": [
    "##Simple FITS Derotation Program - Eddie Sawin\n",
    "\n",
    "#Imports necessary modules\n",
    "from astropy.io import fits\n",
    "import os\n",
    "import scipy\n",
    "import scipy.ndimage\n",
    "#Queries for image directory\n",
    "directory = input('Enter directory:')\n",
    "#Creates folder for derotated images\n",
    "path = os.path.join(directory, 'derotated')\n",
    "os.mkdir(path)"
   ]
  },
  {
   "cell_type": "code",
   "execution_count": 2,
   "id": "86525a1f-6d0a-44f3-a3d2-a4c987bf9cdc",
   "metadata": {},
   "outputs": [],
   "source": [
    "ext = ('.fits', '.fit')\n",
    "#Select initial image\n",
    "or_file = os.listdir(directory)[0]\n",
    "#Check file type and determines angle of telescope rotator during first exposure from FITS Header\n",
    "if or_file.endswith(ext):\n",
    "    or_filepath = directory + '/' + or_file\n",
    "    or_fits = fits.open(or_filepath)\n",
    "    or_angle = or_fits[0].header['ROTATANG']\n",
    "#Iterate through directory\n",
    "for file in os.listdir(directory):\n",
    "    if file.endswith(ext):\n",
    "    #Opens FITS file\n",
    "        c_fits = fits.open(directory + '/' + file)\n",
    "    #Determines angle of rotator during exposure\n",
    "        c_angle = c_fits[0].header['ROTATANG']\n",
    "    #Calculates difference in rotator angle between current and initial exposure.\n",
    "        angle_difference = c_angle - or_angle\n",
    "    #Extracts image data from file\n",
    "        image_data = c_fits[0].data\n",
    "    #Extracts header data from file\n",
    "        temp_header = c_fits[0].header\n",
    "    #Using SciPy, rotates image\n",
    "        rotated_data = scipy.ndimage.rotate(image_data, -(angle_difference), axes=(1, 0), reshape=False, output=None, order=3, mode='constant', cval=0.0, prefilter=True)\n",
    "    #Creates new file in derotated folder\n",
    "        hdu = fits.PrimaryHDU(rotated_data, temp_header)\n",
    "        hdul = fits.HDUList([hdu])\n",
    "        hdul.writeto(directory + '/derotated/derotated_' + file)\n",
    "    #Creates new file in derotated folder"
   ]
  },
  {
   "cell_type": "code",
   "execution_count": null,
   "id": "96ca31d4-fa61-49dd-a763-c1b8d5b5e2f5",
   "metadata": {},
   "outputs": [],
   "source": []
  }
 ],
 "metadata": {
  "kernelspec": {
   "display_name": "Python 3 (ipykernel)",
   "language": "python",
   "name": "python3"
  },
  "language_info": {
   "codemirror_mode": {
    "name": "ipython",
    "version": 3
   },
   "file_extension": ".py",
   "mimetype": "text/x-python",
   "name": "python",
   "nbconvert_exporter": "python",
   "pygments_lexer": "ipython3",
   "version": "3.10.6"
  }
 },
 "nbformat": 4,
 "nbformat_minor": 5
}
